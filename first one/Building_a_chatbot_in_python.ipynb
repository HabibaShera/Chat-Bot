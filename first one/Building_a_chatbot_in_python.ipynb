{
  "nbformat": 4,
  "nbformat_minor": 0,
  "metadata": {
    "colab": {
      "provenance": []
    },
    "kernelspec": {
      "name": "python3",
      "display_name": "Python 3"
    },
    "language_info": {
      "name": "python"
    }
  },
  "cells": [
    {
      "cell_type": "code",
      "execution_count": 73,
      "metadata": {
        "id": "o6cW1_MTj5W0"
      },
      "outputs": [],
      "source": [
        "import numpy as np\n",
        "import nltk\n",
        "import string\n",
        "import random\n",
        "import warnings\n",
        "warnings.filterwarnings('ignore')"
      ]
    },
    {
      "cell_type": "code",
      "source": [
        "f = open('chatbot.txt', 'r', errors='ignore')\n",
        "raw_doc = f.read()\n",
        "\n",
        "raw_doc = raw_doc.lower()\n",
        "nltk.download('punkt')\n",
        "nltk.download('wordnet')\n",
        "nltk.download('omw-1.4')\n",
        "\n",
        "sent_tokens = nltk.sent_tokenize(raw_doc)\n",
        "word_tokens = nltk.word_tokenize(raw_doc)"
      ],
      "metadata": {
        "colab": {
          "base_uri": "https://localhost:8080/"
        },
        "id": "_xXnNMqYkBAy",
        "outputId": "e7fcc336-daa4-48b7-b04a-303c69836b58"
      },
      "execution_count": 31,
      "outputs": [
        {
          "output_type": "stream",
          "name": "stderr",
          "text": [
            "[nltk_data] Downloading package punkt to /root/nltk_data...\n",
            "[nltk_data]   Package punkt is already up-to-date!\n",
            "[nltk_data] Downloading package wordnet to /root/nltk_data...\n",
            "[nltk_data]   Package wordnet is already up-to-date!\n",
            "[nltk_data] Downloading package omw-1.4 to /root/nltk_data...\n"
          ]
        }
      ]
    },
    {
      "cell_type": "code",
      "source": [
        "sent_tokens[:2]"
      ],
      "metadata": {
        "colab": {
          "base_uri": "https://localhost:8080/"
        },
        "id": "6C2zXbmgkBBw",
        "outputId": "27e63e32-6aec-4216-8bfa-b970ed3e8745"
      },
      "execution_count": 5,
      "outputs": [
        {
          "output_type": "execute_result",
          "data": {
            "text/plain": [
              "['data science\\nfrom wikipedia, the free encyclopedia\\njump to navigationjump to search\\nnot to be confused with information science.',\n",
              " 'the existence of comet neowise (here depicted as a series of red dots) was discovered by analyzing astronomical survey data acquired by a space telescope, the wide-field infrared survey explorer.']"
            ]
          },
          "metadata": {},
          "execution_count": 5
        }
      ]
    },
    {
      "cell_type": "code",
      "source": [
        "word_tokens[:2]"
      ],
      "metadata": {
        "colab": {
          "base_uri": "https://localhost:8080/"
        },
        "id": "yQlo6FJekBF-",
        "outputId": "05499be1-6f5a-43c2-f7c5-b77a8569048e"
      },
      "execution_count": 6,
      "outputs": [
        {
          "output_type": "execute_result",
          "data": {
            "text/plain": [
              "['data', 'science']"
            ]
          },
          "metadata": {},
          "execution_count": 6
        }
      ]
    },
    {
      "cell_type": "code",
      "source": [
        "lemmer = nltk.stem.WordNetLemmatizer()\n",
        "def lemTokens(tokens):\n",
        "  return [lemmer.lemmatize(token) for token in tokens]\n",
        "\n",
        "remove_punct_dict =  dict((ord(punct), None) for punct in string.punctuation)\n",
        "\n",
        "def LemNormalize(text):\n",
        "  return lemTokens(nltk.word_tokenize(text.lower().translate(remove_punct_dict)))"
      ],
      "metadata": {
        "id": "zIU6-QOFkBG-"
      },
      "execution_count": 7,
      "outputs": []
    },
    {
      "cell_type": "code",
      "source": [
        "nltk.word_tokenize('This is the? test of!! out chatbot.'.translate(remove_punct_dict))"
      ],
      "metadata": {
        "colab": {
          "base_uri": "https://localhost:8080/"
        },
        "id": "MdYl77UOkBMn",
        "outputId": "74bfc505-ffd3-48ca-fdd0-1166edf310e8"
      },
      "execution_count": 11,
      "outputs": [
        {
          "output_type": "execute_result",
          "data": {
            "text/plain": [
              "['This', 'is', 'the', 'test', 'of', 'out', 'chatbot']"
            ]
          },
          "metadata": {},
          "execution_count": 11
        }
      ]
    },
    {
      "cell_type": "code",
      "source": [
        "GREET_INPUTS = ('hello','greetings' ,'hi', 'sup', \"what's up\", 'hey')\n",
        "GREET_RESPONSES = ['hi', 'hey', 'hi there', 'hello', 'I am glad! You are talking to me']\n",
        "\n",
        "def greet(sentence):\n",
        "  sentence = sentence.translate(remove_punct_dict)\n",
        "  for word in sentence.split():\n",
        "    if word.lower() in GREET_INPUTS:\n",
        "      return random.choice(GREET_RESPONSES)"
      ],
      "metadata": {
        "id": "7zrQL-HRmljt"
      },
      "execution_count": 25,
      "outputs": []
    },
    {
      "cell_type": "code",
      "source": [
        "print(greet('Hi!!. Can you help me?'))"
      ],
      "metadata": {
        "colab": {
          "base_uri": "https://localhost:8080/"
        },
        "id": "Y_o8KEkDmlis",
        "outputId": "c8801bff-c097-43fa-994a-3abf0e4162dd"
      },
      "execution_count": 26,
      "outputs": [
        {
          "output_type": "stream",
          "name": "stdout",
          "text": [
            "hi there\n"
          ]
        }
      ]
    },
    {
      "cell_type": "code",
      "source": [
        "from sklearn.feature_extraction.text import TfidfVectorizer\n",
        "from sklearn.metrics.pairwise import cosine_similarity"
      ],
      "metadata": {
        "id": "tUd3LeBRmld2"
      },
      "execution_count": 27,
      "outputs": []
    },
    {
      "cell_type": "code",
      "source": [
        "TfidfVec = TfidfVectorizer(tokenizer=LemNormalize, stop_words='english')\n",
        "tfidf = TfidfVec.fit_transform(sent_tokens)\n",
        "vals = cosine_similarity(tfidf[-1], tfidf)\n",
        "idx = vals.argsort()[0][-2]\n",
        "flat = vals.flatten()\n",
        "flat.sort()\n",
        "flat\n",
        "req_tfidf = flat[-2]\n",
        "print(req_tfidf, vals[0][101])"
      ],
      "metadata": {
        "colab": {
          "base_uri": "https://localhost:8080/"
        },
        "id": "UsRV594TAXns",
        "outputId": "a19335f9-1b06-47c7-d6e3-3af16d6b66ec"
      },
      "execution_count": 71,
      "outputs": [
        {
          "output_type": "stream",
          "name": "stdout",
          "text": [
            "0.20229376666161175 0.20229376666161175\n"
          ]
        },
        {
          "output_type": "stream",
          "name": "stderr",
          "text": [
            "/usr/local/lib/python3.7/dist-packages/sklearn/feature_extraction/text.py:401: UserWarning: Your stop_words may be inconsistent with your preprocessing. Tokenizing the stop words generated tokens ['ha', 'le', 'u', 'wa'] not in stop_words.\n",
            "  % sorted(inconsistent)\n"
          ]
        }
      ]
    },
    {
      "cell_type": "code",
      "source": [
        "def response(user_response):\n",
        "  robo1_response = ''\n",
        "  TfidfVec = TfidfVectorizer(tokenizer=LemNormalize, stop_words='english')\n",
        "  tfidf = TfidfVec.fit_transform(sent_tokens)\n",
        "  vals = cosine_similarity(tfidf[-1], tfidf)\n",
        "  idx = vals.argsort()[0][-2]\n",
        "  flat = vals.flatten()\n",
        "  flat.sort()\n",
        "  req_tfidf = flat[-2]\n",
        "\n",
        "  if req_tfidf==0:\n",
        "    robo1_response += \"I am sorry! I don't understand you\"\n",
        "    return robo1_response\n",
        "  else:\n",
        "    robo1_response+=sent_tokens[idx]\n",
        "    return robo1_response"
      ],
      "metadata": {
        "id": "KKPUPunLmlaA"
      },
      "execution_count": 28,
      "outputs": []
    },
    {
      "cell_type": "code",
      "source": [
        "flag = True\n",
        "print(\"BOT : My name is stark. Let's have a converstation!, if you want to exit any time, just type Bye\")\n",
        "\n",
        "while(flag==True):\n",
        "  user_reponse = input()\n",
        "  user_reponse = user_reponse.lower()\n",
        "  if user_reponse != 'bye':\n",
        "    if (user_reponse=='thanks' or user_reponse=='thank you'):\n",
        "      flag = False\n",
        "    else:\n",
        "      if (greet(user_reponse)!=None):\n",
        "        print(\"BOT : \"+greet(user_reponse))\n",
        "      else:\n",
        "        sent_tokens.append(user_reponse)\n",
        "        word_tokens = word_tokens+nltk.word_tokenize(user_reponse)\n",
        "        final_words = list(set(word_tokens))\n",
        "        print(\"BOT : \",end='')\n",
        "        print(response(user_reponse))\n",
        "        sent_tokens.remove(user_reponse)\n",
        "\n",
        "  else:\n",
        "    flag = False\n",
        "    print(\"BOT : Goodbye! Take care <3\")  "
      ],
      "metadata": {
        "colab": {
          "base_uri": "https://localhost:8080/"
        },
        "id": "iQa6BxnsmlZB",
        "outputId": "505f8ff0-beb6-4e17-8113-fe3928f670de"
      },
      "execution_count": 75,
      "outputs": [
        {
          "output_type": "stream",
          "name": "stdout",
          "text": [
            "BOT : My name is stark. Let's have a converstation!, if you want to exit any time, just type Bye\n",
            "hello BOT\n",
            "BOT : I am glad! You are talking to me\n",
            "what about data science\n",
            "BOT : \"about data science\".\n",
            "foundation of it\n",
            "BOT : wikipedia® is a registered trademark of the wikimedia foundation, inc., a non-profit organization.\n",
            "and big data\n",
            "BOT : big data and cognitive computing.\n",
            "bye now\n",
            "BOT : I am sorry! I don't understand you\n",
            "bye\n",
            "BOT : Goodbye! Take care <3\n"
          ]
        }
      ]
    },
    {
      "cell_type": "code",
      "source": [],
      "metadata": {
        "id": "BwKRlJwYmlUe"
      },
      "execution_count": null,
      "outputs": []
    }
  ]
}